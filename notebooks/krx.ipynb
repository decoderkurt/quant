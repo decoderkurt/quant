{
 "cells": [
  {
   "cell_type": "markdown",
   "metadata": {},
   "source": [
    "# KRX에서 코스피 종목 리스트 가져오기\n",
    "- url: http://kind.krx.co.kr/corpgeneral/corpList.do?currentPageSize=5000&pageIndex=1&method=download&searchType=13\n",
    "- searchType\n",
    "  - 13: 상장법인\n",
    "  - 01: 관리종목\n",
    "  - 05: 불성실공시법인\n",
    "  - 07: 자산2조법인\n",
    "  - 99: 외국법인\n",
    "  - 181: 코스닥 우량기업부\n",
    "  - 182: 코스닥 벤처기업부\n",
    "  - 183: 코스닥 중견기업부\n",
    "  - 184: 코스닥 기술성장기업부\n",
    "  - 11: KRX100\n",
    "  - 06: KOSPI200\n",
    "  - 09: STAR30\n",
    "  - 10: PREMIER\n",
    "- marketType\n",
    "  - stockMkt: 코스피\n",
    "  - kosdaqMkt: 코스닥\n",
    "  - konexMkt: 코넥스"
   ]
  },
  {
   "cell_type": "code",
   "execution_count": 13,
   "metadata": {},
   "outputs": [],
   "source": [
    "import sys; sys.path.insert(0, '..')\n",
    "import krx\n",
    "import util\n",
    "df_stocks = krx.get_stocks()\n",
    "str_date = util.날짜_오늘()\n",
    "df_stocks.to_csv('../data/all_{date}.csv'.format(date=str_date), index=False, encoding='utf-8')"
   ]
  },
  {
   "cell_type": "code",
   "execution_count": null,
   "metadata": {},
   "outputs": [],
   "source": []
  }
 ],
 "metadata": {
  "kernelspec": {
   "display_name": "Python 3",
   "language": "python",
   "name": "python3"
  },
  "language_info": {
   "codemirror_mode": {
    "name": "ipython",
    "version": 3
   },
   "file_extension": ".py",
   "mimetype": "text/x-python",
   "name": "python",
   "nbconvert_exporter": "python",
   "pygments_lexer": "ipython3",
   "version": "3.6.3"
  }
 },
 "nbformat": 4,
 "nbformat_minor": 2
}
